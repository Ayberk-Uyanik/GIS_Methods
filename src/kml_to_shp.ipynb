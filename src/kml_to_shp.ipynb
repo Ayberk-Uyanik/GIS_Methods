{
 "cells": [
  {
   "cell_type": "markdown",
   "metadata": {},
   "source": [
    "### Conversion of KML Files into Shape Files ###\n",
    "\n",
    "KML files are one of the most commonly used file types for GIS based applications in any industry dealing with GIS data. <br>\n",
    "\n",
    "To convert them fast and efficiently into .shp files, geopandas and fiona libraries provide necessary methods.<br>\n",
    "\n",
    "Geopandas allows reading the KML file from the associated directory while fiona arranges the necessary file drivers to identify and convert.\n",
    "\n",
    "<b>The python codes is as follows;</b>"
   ]
  },
  {
   "cell_type": "code",
   "execution_count": 11,
   "metadata": {},
   "outputs": [],
   "source": [
    "# KML File to Shapefile Conversion Function #\n",
    "def convert_kml_to_shp():\n",
    "    # Import Necessarry Libraries #\n",
    "    import geopandas as gpd, fiona\n",
    "\n",
    "    # Enabling KML Drivers #\n",
    "    fiona.drvsupport.supported_drivers[\"KML\"] = 'rw'\n",
    "    fiona.drvsupport.supported_drivers[\"shp\"] = 'rw'\n",
    "    fiona.supported_drivers\n",
    "    \n",
    "    # Importing KML File with Geopandas #\n",
    "    kml_file = gpd.read_file(r\"Directory of KML File\", driver=\"KML\")\n",
    "    \n",
    "    # Exporting the kml file as Shape file #\n",
    "    shp_file=\"example.shp\"\n",
    "    kml_file.to_file(shp_file, driver=\"ESRI Shapefile\")\n",
    "\n",
    "    return shp_file"
   ]
  }
 ],
 "metadata": {
  "kernelspec": {
   "display_name": "base",
   "language": "python",
   "name": "python3"
  },
  "language_info": {
   "codemirror_mode": {
    "name": "ipython",
    "version": 3
   },
   "file_extension": ".py",
   "mimetype": "text/x-python",
   "name": "python",
   "nbconvert_exporter": "python",
   "pygments_lexer": "ipython3",
   "version": "3.9.13"
  }
 },
 "nbformat": 4,
 "nbformat_minor": 2
}
