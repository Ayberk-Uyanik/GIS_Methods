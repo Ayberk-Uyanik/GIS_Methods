{
 "cells": [
  {
   "cell_type": "markdown",
   "metadata": {},
   "source": [
    "## Lat-Long Converter ##\n",
    "\n",
    "In some cases, coordinates recorded as \"X\" and \"Y\" values might needed to be converted into Lat-Long pairs, especially for mapping. <br>\n",
    "\n",
    "To do that in a fast and efficient way, function shared below uses an approach by benefitting from the Shapely and Geopandas. <br>\n",
    "\n",
    "A dataframe arguement, including at least X and Y coordinates in separate columns, is needed to invoke the function.\n",
    "\n",
    "<hr>\n",
    "\n",
    "## ESPG Coordinate System ##\n",
    "\n",
    "After the geometry is described, function needs \"CRS\" values defined by EPSG. Different geographic regions have different EPSG values.\n",
    "\n",
    "List of EPSG values can be found via following links;\n",
    "\n",
    "<b>Spatial Reference Website:</b> https://spatialreference.org/ref/epsg/\n",
    "\n",
    "<b>EPSG Website:</b> https://epsg.org/home.html\n",
    "\n",
    "<hr>\n",
    "\n",
    "The code snippet below demonstrates an example from a part of Turkey.\n",
    "\n",
    "<b>The python codes is as follows;</b>"
   ]
  },
  {
   "cell_type": "code",
   "execution_count": 6,
   "metadata": {},
   "outputs": [],
   "source": [
    "# Changing coordinate system to Lat/Long for Plotly Mapping #\n",
    "def convert_coordinates_to_lat_long(dataframe):\n",
    "    from shapely.geometry import Point\n",
    "    from geopandas import GeoDataFrame\n",
    "\n",
    "    geometry = [Point(xy) for xy in zip(dataframe[\"X\"].astype(float), dataframe[\"Y\"].astype(float))]\n",
    "    gdf = GeoDataFrame(dataframe, geometry=geometry, crs=\"EPSG:23036\")\n",
    "    gdf = gdf.to_crs(\"EPSG:4326\")\n",
    "    gdf[\"lat\"] = gdf[\"geometry\"].apply(lambda p: p.y)\n",
    "    gdf[\"long\"] = gdf[\"geometry\"].apply(lambda p: p.x)\n",
    "    \n",
    "    return gdf"
   ]
  }
 ],
 "metadata": {
  "kernelspec": {
   "display_name": "base",
   "language": "python",
   "name": "python3"
  },
  "language_info": {
   "codemirror_mode": {
    "name": "ipython",
    "version": 3
   },
   "file_extension": ".py",
   "mimetype": "text/x-python",
   "name": "python",
   "nbconvert_exporter": "python",
   "pygments_lexer": "ipython3",
   "version": "3.9.13"
  }
 },
 "nbformat": 4,
 "nbformat_minor": 2
}
